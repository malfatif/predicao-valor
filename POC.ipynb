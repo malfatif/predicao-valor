{
 "cells": [
  {
   "cell_type": "code",
   "execution_count": 1,
   "metadata": {
    "collapsed": true
   },
   "outputs": [],
   "source": [
    "import numpy as np\n",
    "import pandas as pd\n",
    "import matplotlib\n",
    "import matplotlib.pyplot as plt\n",
    "\n",
    "# macro do ipython para rederizar o matplotlib inline\n",
    "%matplotlib inline"
   ]
  },
  {
   "cell_type": "markdown",
   "metadata": {},
   "source": [
    "<H1> Materiais com mais entradas no estoque! </H1>\n",
    "<ul>\n",
    "    <li> 8285\tPapel toalha folha dupla - interfolhado </li>\n",
    "    <li> 2535\tCopo descartável para café 50 ml PP </li>\n",
    "    <li> 2534\tCopo descartável para água 200 ml PP </li>\n",
    "    <li> 42\tClips para papéis nº 00 - caixa com 100 unidades </li>\n",
    "    <li> 6510\tÁgua mineral natural sem gás - garrafa de 300 a 350 ml </li>\n",
    "    <li> 8284\tPapel higiênico folha dupla rolo 30 m </li>\n",
    "    <li> 1508\tMídia gravável DVD-R 4,7 Gb </li>\n",
    "    <li> 220\tMídia CD-R 700 Mb </li>\n",
    "    <li> 7643\tPão de forma/ Pão de Queijo/ Pão Francês/ Pão Integral/ Bisnaga/ pronto para consumo </li>\n",
    "    <li> 8818\tEnvelope para ofício - PJ - branco - 229x114mm </li>\n",
    "</ul>"
   ]
  },
  {
   "cell_type": "code",
   "execution_count": 11,
   "metadata": {
    "collapsed": true
   },
   "outputs": [],
   "source": [
    "dataSetOriginal = pd.read_csv('agua_mineral.csv')"
   ]
  },
  {
   "cell_type": "code",
   "execution_count": 12,
   "metadata": {
    "collapsed": true
   },
   "outputs": [],
   "source": [
    "dataSet = dataSetOriginal[ dataSetOriginal['cdMaterial'] == 6510 ]"
   ]
  },
  {
   "cell_type": "markdown",
   "metadata": {},
   "source": [
    "<b>Temos que selecionar algum material em específico.\n",
    "Só faz sentido predizer o valor de um material os agrupando e gerando um <u>modelo estatístico por catálogo</u>.\n",
    "(6510 - Água mineral natural sem gás - garrafa de 300 a 350 ml), para testar a divergência de valor unitário</b>"
   ]
  },
  {
   "cell_type": "code",
   "execution_count": 13,
   "metadata": {},
   "outputs": [
    {
     "data": {
      "text/plain": [
       "count    2080.000000\n",
       "mean        2.439059\n",
       "std         3.860465\n",
       "min         0.006314\n",
       "25%         0.677500\n",
       "50%         1.034167\n",
       "75%         1.076667\n",
       "max        13.140000\n",
       "Name: vlUnitario, dtype: float64"
      ]
     },
     "execution_count": 13,
     "metadata": {},
     "output_type": "execute_result"
    }
   ],
   "source": [
    "dataSet['vlUnitario'].describe()"
   ]
  },
  {
   "cell_type": "markdown",
   "metadata": {},
   "source": [
    "<b> Usando o método describe do pandas para verificar algumas métricas dos dados:\n",
    "<ul>\n",
    "    <li>\n",
    "       Valor médio\n",
    "    </li>\n",
    "    <li>\n",
    "        Desvio padrão\n",
    "    </li>\n",
    "    <li>\n",
    "        Maior valor\n",
    "    </li>\n",
    "    <li>\n",
    "        Quartis\n",
    "    </li>\n",
    "</ul>\n",
    "</b>"
   ]
  },
  {
   "cell_type": "code",
   "execution_count": 14,
   "metadata": {},
   "outputs": [
    {
     "data": {
      "text/plain": [
       "[<matplotlib.lines.Line2D at 0x1a980064ac8>]"
      ]
     },
     "execution_count": 14,
     "metadata": {},
     "output_type": "execute_result"
    },
    {
     "data": {
      "image/png": "[encoded data removed]",
      "text/plain": [
       "<matplotlib.figure.Figure at 0x1a982168048>"
      ]
     },
     "metadata": {},
     "output_type": "display_data"
    }
   ],
   "source": [
    "plt.scatter(dataSet['qtMaterial'], dataSet['vlUnitario'])\n",
    "plt.plot(len(dataSet['vlUnitario']) / 2, dataSet['vlUnitario'].mean(),'ro')\n",
    "plt.plot(len(dataSet['vlUnitario']) / 3, dataSet['vlUnitario'].median(),'y^')\n",
    "plt.plot(len(dataSet['vlUnitario']) / 4, dataSet['vlUnitario'].mode(),'g^')"
   ]
  },
  {
   "cell_type": "markdown",
   "metadata": {},
   "source": [
    "<b> Visualizando o é possível visualizar a divergência de valores. Os valores unitários variam de 176.05 a 0.01 centavos.\n",
    "  <p>A média está pintada em vermelho e corresponde ao valor de 30.98 (EIXO Y)</p> \n",
    "  <p>A mediana está pintada em amarelho e corresponde ao valor de 15.78 (EIXO Y)</p> \n",
    "  <p>A moda está pintada em verde e corresponde ao valor de 13.15 (EIXO Y)</p> \n",
    "</b>"
   ]
  },
  {
   "cell_type": "code",
   "execution_count": 15,
   "metadata": {},
   "outputs": [
    {
     "name": "stdout",
     "output_type": "stream",
     "text": [
      "1.0766666666666664\n",
      "0.6775\n"
     ]
    }
   ],
   "source": [
    "clearDataSet = dataSet[dataSet.vlUnitario < dataSet.vlUnitario.quantile(.75)]\n",
    "clearDataSet = clearDataSet[clearDataSet.vlUnitario > clearDataSet.vlUnitario.quantile(.25)]\n",
    "\n",
    "print(dataSet.vlUnitario.quantile(.75))\n",
    "print(dataSet.vlUnitario.quantile(.25))"
   ]
  },
  {
   "cell_type": "markdown",
   "metadata": {},
   "source": [
    "<h3> Removendo outliers por quartis calculados pelo valor unitário\n",
    "</h3>"
   ]
  },
  {
   "cell_type": "code",
   "execution_count": 16,
   "metadata": {},
   "outputs": [
    {
     "data": {
      "text/plain": [
       "[<matplotlib.lines.Line2D at 0x1a98011b3c8>]"
      ]
     },
     "execution_count": 16,
     "metadata": {},
     "output_type": "execute_result"
    },
    {
     "data": {
      "image/png": "[encoded data removed]",
      "text/plain": [
       "<matplotlib.figure.Figure at 0x1a982176080>"
      ]
     },
     "metadata": {},
     "output_type": "display_data"
    }
   ],
   "source": [
    "plt.scatter(clearDataSet['qtMaterial'], clearDataSet['vlUnitario'])\n",
    "plt.plot(len(clearDataSet['vlUnitario']) * 2,clearDataSet['vlUnitario'].mean(),'ro')\n",
    "plt.plot(len(clearDataSet['vlUnitario']) * 3,clearDataSet['vlUnitario'].median(),'y^')\n",
    "plt.plot(len(clearDataSet['vlUnitario']) * 4,clearDataSet['vlUnitario'].mode(),'g^')"
   ]
  },
  {
   "cell_type": "code",
   "execution_count": 8,
   "metadata": {
    "collapsed": true
   },
   "outputs": [],
   "source": [
    "from sklearn.model_selection import train_test_split\n",
    "\n",
    "X_train, X_test, y_train, y_test = train_test_split( clearDataSet['qtMaterial'], clearDataSet['vlUnitario'], test_size=0.3, random_state=0)"
   ]
  },
  {
   "cell_type": "markdown",
   "metadata": {},
   "source": [
    "<b>\n",
    "    Aqui fazemos um 'split' em treino e teste dos dadados\n",
    "</b>"
   ]
  },
  {
   "cell_type": "code",
   "execution_count": 9,
   "metadata": {
    "collapsed": true
   },
   "outputs": [],
   "source": [
    "from sklearn import linear_model\n",
    "linearRegression = linear_model.LinearRegression()\n",
    "\n",
    "linearRegression.fit(X_train.to_frame(), y_train.to_frame())\n",
    "\n",
    "y_predict = linearRegression.predict(X_test.to_frame())"
   ]
  },
  {
   "cell_type": "markdown",
   "metadata": {},
   "source": [
    "<b>\n",
    "    Criamos um modelo de regressão linear, onde entra quantidade do material e sai o valor unitário\n",
    "</b>"
   ]
  },
  {
   "cell_type": "code",
   "execution_count": 10,
   "metadata": {},
   "outputs": [
    {
     "data": {
      "text/plain": [
       "0.067136466794574259"
      ]
     },
     "execution_count": 10,
     "metadata": {},
     "output_type": "execute_result"
    }
   ],
   "source": [
    "from sklearn import metrics\n",
    "\n",
    "#MÉTRICA DE ERRO, MÉDIA DOS ERROS ABSOLUTOS! (Quanto mais próxima de zero melhor)\n",
    "metrics.mean_absolute_error(y_test, y_predict )"
   ]
  },
  {
   "cell_type": "markdown",
   "metadata": {},
   "source": [
    "<b>\n",
    "    Usando a métrica de média dos erros aboslutos (Quanto mais próximo de zero o número menor e o erro e melhor é o modelo)\n",
    "</b>"
   ]
  },
  {
   "cell_type": "code",
   "execution_count": 53,
   "metadata": {},
   "outputs": [
    {
     "data": {
      "text/plain": [
       "count    1878.000000\n",
       "mean        0.953615\n",
       "std         0.083736\n",
       "min         0.697191\n",
       "25%         0.909167\n",
       "50%         0.962500\n",
       "75%         1.034167\n",
       "max         1.055806\n",
       "Name: vlUnitario, dtype: float64"
      ]
     },
     "execution_count": 53,
     "metadata": {},
     "output_type": "execute_result"
    }
   ],
   "source": [
    "#Talvez a média dos valores sem os outliers já seja o suficiente??\n",
    "clearDataSet['vlUnitario'].describe() "
   ]
  },
  {
   "cell_type": "code",
   "execution_count": null,
   "metadata": {
    "collapsed": true
   },
   "outputs": [],
   "source": []
  }
 ],
 "metadata": {
  "kernelspec": {
   "display_name": "Python 3",
   "language": "python",
   "name": "python3"
  },
  "language_info": {
   "codemirror_mode": {
    "name": "ipython",
    "version": 3
   },
   "file_extension": ".py",
   "mimetype": "text/x-python",
   "name": "python",
   "nbconvert_exporter": "python",
   "pygments_lexer": "ipython3",
   "version": "3.6.1"
  }
 },
 "nbformat": 4,
 "nbformat_minor": 2
}
